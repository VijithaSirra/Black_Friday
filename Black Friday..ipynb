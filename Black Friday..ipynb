{
 "cells": [
  {
   "cell_type": "markdown",
   "metadata": {},
   "source": [
    "## Import Necessary Modules "
   ]
  },
  {
   "cell_type": "code",
   "execution_count": 1,
   "metadata": {},
   "outputs": [
    {
     "data": {
      "text/html": [
       "<div>\n",
       "<style scoped>\n",
       "    .dataframe tbody tr th:only-of-type {\n",
       "        vertical-align: middle;\n",
       "    }\n",
       "\n",
       "    .dataframe tbody tr th {\n",
       "        vertical-align: top;\n",
       "    }\n",
       "\n",
       "    .dataframe thead th {\n",
       "        text-align: right;\n",
       "    }\n",
       "</style>\n",
       "<table border=\"1\" class=\"dataframe\">\n",
       "  <thead>\n",
       "    <tr style=\"text-align: right;\">\n",
       "      <th></th>\n",
       "      <th>User_ID</th>\n",
       "      <th>Product_ID</th>\n",
       "      <th>Gender</th>\n",
       "      <th>Age</th>\n",
       "      <th>Occupation</th>\n",
       "      <th>City_Category</th>\n",
       "      <th>Stay_In_Current_City_Years</th>\n",
       "      <th>Marital_Status</th>\n",
       "      <th>Product_Category_1</th>\n",
       "      <th>Product_Category_2</th>\n",
       "      <th>Product_Category_3</th>\n",
       "      <th>Purchase</th>\n",
       "    </tr>\n",
       "  </thead>\n",
       "  <tbody>\n",
       "    <tr>\n",
       "      <th>0</th>\n",
       "      <td>1000001</td>\n",
       "      <td>P00248942</td>\n",
       "      <td>F</td>\n",
       "      <td>0-17</td>\n",
       "      <td>10</td>\n",
       "      <td>A</td>\n",
       "      <td>2</td>\n",
       "      <td>0</td>\n",
       "      <td>1</td>\n",
       "      <td>6.0</td>\n",
       "      <td>14.0</td>\n",
       "      <td>15200</td>\n",
       "    </tr>\n",
       "    <tr>\n",
       "      <th>1</th>\n",
       "      <td>1000002</td>\n",
       "      <td>P00285442</td>\n",
       "      <td>M</td>\n",
       "      <td>25-35</td>\n",
       "      <td>16</td>\n",
       "      <td>C</td>\n",
       "      <td>5</td>\n",
       "      <td>0</td>\n",
       "      <td>8</td>\n",
       "      <td>15.0</td>\n",
       "      <td>10.0</td>\n",
       "      <td>7969</td>\n",
       "    </tr>\n",
       "    <tr>\n",
       "      <th>2</th>\n",
       "      <td>1000003</td>\n",
       "      <td>P00193542</td>\n",
       "      <td>M</td>\n",
       "      <td>26-35</td>\n",
       "      <td>15</td>\n",
       "      <td>A</td>\n",
       "      <td>3</td>\n",
       "      <td>0</td>\n",
       "      <td>1</td>\n",
       "      <td>2.0</td>\n",
       "      <td>11.0</td>\n",
       "      <td>15227</td>\n",
       "    </tr>\n",
       "    <tr>\n",
       "      <th>3</th>\n",
       "      <td>1000004</td>\n",
       "      <td>P00184942</td>\n",
       "      <td>M</td>\n",
       "      <td>46-50</td>\n",
       "      <td>7</td>\n",
       "      <td>B</td>\n",
       "      <td>2</td>\n",
       "      <td>1</td>\n",
       "      <td>1</td>\n",
       "      <td>8.0</td>\n",
       "      <td>17.0</td>\n",
       "      <td>19215</td>\n",
       "    </tr>\n",
       "    <tr>\n",
       "      <th>4</th>\n",
       "      <td>1000004</td>\n",
       "      <td>P00346142</td>\n",
       "      <td>M</td>\n",
       "      <td>46-50</td>\n",
       "      <td>7</td>\n",
       "      <td>B</td>\n",
       "      <td>2</td>\n",
       "      <td>1</td>\n",
       "      <td>1</td>\n",
       "      <td>15.0</td>\n",
       "      <td>10.0</td>\n",
       "      <td>15854</td>\n",
       "    </tr>\n",
       "  </tbody>\n",
       "</table>\n",
       "</div>"
      ],
      "text/plain": [
       "   User_ID Product_ID Gender    Age  Occupation City_Category  \\\n",
       "0  1000001  P00248942      F   0-17          10             A   \n",
       "1  1000002  P00285442      M  25-35          16             C   \n",
       "2  1000003  P00193542      M  26-35          15             A   \n",
       "3  1000004  P00184942      M  46-50           7             B   \n",
       "4  1000004  P00346142      M  46-50           7             B   \n",
       "\n",
       "   Stay_In_Current_City_Years  Marital_Status  Product_Category_1  \\\n",
       "0                           2               0                   1   \n",
       "1                           5               0                   8   \n",
       "2                           3               0                   1   \n",
       "3                           2               1                   1   \n",
       "4                           2               1                   1   \n",
       "\n",
       "   Product_Category_2  Product_Category_3  Purchase  \n",
       "0                 6.0                14.0     15200  \n",
       "1                15.0                10.0      7969  \n",
       "2                 2.0                11.0     15227  \n",
       "3                 8.0                17.0     19215  \n",
       "4                15.0                10.0     15854  "
      ]
     },
     "execution_count": 1,
     "metadata": {},
     "output_type": "execute_result"
    }
   ],
   "source": [
    "import pandas as pd\n",
    "import numpy as np\n",
    "import sklearn \n",
    "from sklearn import svm\n",
    "import warnings\n",
    "warnings.filterwarnings('ignore')\n",
    "\n",
    "data = pd.read_csv(\"data.csv\", sep = \"\\t\")\n",
    "\n",
    "data.head()"
   ]
  },
  {
   "cell_type": "code",
   "execution_count": 2,
   "metadata": {},
   "outputs": [
    {
     "data": {
      "text/plain": [
       "Index(['User_ID', 'Product_ID', 'Gender', 'Age', 'Occupation', 'City_Category',\n",
       "       'Stay_In_Current_City_Years', 'Marital_Status', 'Product_Category_1',\n",
       "       'Product_Category_2', 'Product_Category_3', 'Purchase'],\n",
       "      dtype='object')"
      ]
     },
     "execution_count": 2,
     "metadata": {},
     "output_type": "execute_result"
    }
   ],
   "source": [
    "data.columns"
   ]
  },
  {
   "cell_type": "markdown",
   "metadata": {},
   "source": [
    "## Converting Objects to int using dictionary"
   ]
  },
  {
   "cell_type": "code",
   "execution_count": 3,
   "metadata": {},
   "outputs": [
    {
     "data": {
      "text/plain": [
       "array(['P00248942', 'P00285442', 'P00193542', 'P00184942', 'P00346142',\n",
       "       'P0097242', 'P00274942', 'P00251242', 'P00014542', 'P00031342',\n",
       "       'P00145042', 'P00231342', 'P00190242', 'P0096642', 'P00058442',\n",
       "       'P00036842', 'P00249542', 'P00220442', 'P00156442', 'P00213742',\n",
       "       'P00214442', 'P00303442', 'P00135742', 'P00039942', 'P00161442',\n",
       "       'P00078742', 'P00085942', 'P00118742', 'P00297942', 'P00266842',\n",
       "       'P00058342', 'P00032442', 'P00105942', 'P00182642', 'P00186942',\n",
       "       'P00155442', 'P00221342', 'P00087242', 'P00111142', 'P00259342',\n",
       "       'P0094542', 'P00148642', 'P00312142', 'P00113242', 'P00192642',\n",
       "       'P00110842', 'P00189642', 'P00304242', 'P00365242'], dtype=object)"
      ]
     },
     "execution_count": 3,
     "metadata": {},
     "output_type": "execute_result"
    }
   ],
   "source": [
    "data['Product_ID'].unique()"
   ]
  },
  {
   "cell_type": "code",
   "execution_count": 4,
   "metadata": {},
   "outputs": [],
   "source": [
    "c = 0\n",
    "prod_dict = {}\n",
    "for i in set(data.Product_ID):\n",
    "    prod_dict[i] = c\n",
    "    c = c+1\n",
    "for i in range(len(data)):\n",
    "    temp = data.Product_ID[i]\n",
    "    data.Product_ID[i] = prod_dict[temp]"
   ]
  },
  {
   "cell_type": "code",
   "execution_count": 5,
   "metadata": {},
   "outputs": [
    {
     "data": {
      "text/plain": [
       "{'P00110842': 0,\n",
       " 'P00274942': 1,\n",
       " 'P00189642': 2,\n",
       " 'P0094542': 3,\n",
       " 'P00085942': 4,\n",
       " 'P00193542': 5,\n",
       " 'P00259342': 6,\n",
       " 'P00036842': 7,\n",
       " 'P0097242': 8,\n",
       " 'P00058342': 9,\n",
       " 'P00105942': 10,\n",
       " 'P00192642': 11,\n",
       " 'P00249542': 12,\n",
       " 'P00032442': 13,\n",
       " 'P00248942': 14,\n",
       " 'P00182642': 15,\n",
       " 'P00111142': 16,\n",
       " 'P00184942': 17,\n",
       " 'P00148642': 18,\n",
       " 'P00113242': 19,\n",
       " 'P00346142': 20,\n",
       " 'P00213742': 21,\n",
       " 'P00304242': 22,\n",
       " 'P00155442': 23,\n",
       " 'P00303442': 24,\n",
       " 'P00118742': 25,\n",
       " 'P00058442': 26,\n",
       " 'P00135742': 27,\n",
       " 'P00039942': 28,\n",
       " 'P0096642': 29,\n",
       " 'P00190242': 30,\n",
       " 'P00220442': 31,\n",
       " 'P00156442': 32,\n",
       " 'P00231342': 33,\n",
       " 'P00145042': 34,\n",
       " 'P00251242': 35,\n",
       " 'P00214442': 36,\n",
       " 'P00297942': 37,\n",
       " 'P00266842': 38,\n",
       " 'P00186942': 39,\n",
       " 'P00312142': 40,\n",
       " 'P00087242': 41,\n",
       " 'P00031342': 42,\n",
       " 'P00365242': 43,\n",
       " 'P00285442': 44,\n",
       " 'P00078742': 45,\n",
       " 'P00014542': 46,\n",
       " 'P00221342': 47,\n",
       " 'P00161442': 48}"
      ]
     },
     "execution_count": 5,
     "metadata": {},
     "output_type": "execute_result"
    }
   ],
   "source": [
    "prod_dict"
   ]
  },
  {
   "cell_type": "code",
   "execution_count": 6,
   "metadata": {},
   "outputs": [
    {
     "data": {
      "text/plain": [
       "array(['F', 'M'], dtype=object)"
      ]
     },
     "execution_count": 6,
     "metadata": {},
     "output_type": "execute_result"
    }
   ],
   "source": [
    "data['Gender'].unique()"
   ]
  },
  {
   "cell_type": "code",
   "execution_count": 7,
   "metadata": {},
   "outputs": [],
   "source": [
    "c = 0\n",
    "gender_dict = {}\n",
    "for i in set(data.Gender):\n",
    "    gender_dict[i] = c\n",
    "    c = c+1\n",
    "    \n",
    "for i in range(len(data)):\n",
    "    temp = data.Gender[i]\n",
    "    data.Gender[i] = gender_dict[temp]"
   ]
  },
  {
   "cell_type": "code",
   "execution_count": 8,
   "metadata": {},
   "outputs": [
    {
     "data": {
      "text/plain": [
       "array(['A', 'C', 'B'], dtype=object)"
      ]
     },
     "execution_count": 8,
     "metadata": {},
     "output_type": "execute_result"
    }
   ],
   "source": [
    "data['City_Category'].unique()"
   ]
  },
  {
   "cell_type": "code",
   "execution_count": 9,
   "metadata": {},
   "outputs": [],
   "source": [
    "c = 0\n",
    "city_dict = {}\n",
    "for i in set(data.City_Category):\n",
    "    city_dict[i] = c\n",
    "    c = c+1\n",
    "    \n",
    "for i in range(len(data)):\n",
    "    temp = data.City_Category[i]\n",
    "    data.City_Category[i] = city_dict[temp]"
   ]
  },
  {
   "cell_type": "code",
   "execution_count": 10,
   "metadata": {},
   "outputs": [
    {
     "data": {
      "text/plain": [
       "array([ 6., 15.,  2.,  8., 16.,  1., 11.,  0., 12.,  5.,  3., 14., 10.,\n",
       "       nan,  4.,  7.,  9., 17., 13.])"
      ]
     },
     "execution_count": 10,
     "metadata": {},
     "output_type": "execute_result"
    }
   ],
   "source": [
    "data['Product_Category_2'].unique()"
   ]
  },
  {
   "cell_type": "code",
   "execution_count": 11,
   "metadata": {},
   "outputs": [],
   "source": [
    "c = 0\n",
    "product_2_dict = {}\n",
    "data.Product_Category_2 = data.Product_Category_2.fillna(0)\n",
    "for i in set(data.Product_Category_2):\n",
    "    product_2_dict[i] = c\n",
    "    c = c+1\n",
    "    \n",
    "for i in range(len(data)):\n",
    "    temp = data.Product_Category_2[i]\n",
    "    data.Product_Category_2[i] = product_2_dict[temp]"
   ]
  },
  {
   "cell_type": "code",
   "execution_count": 12,
   "metadata": {},
   "outputs": [
    {
     "data": {
      "text/plain": [
       "array([14., 10., 11., 17., 12.,  1.,  3., 15.,  5.,  4., 16.,  7.,  9.,\n",
       "        8.,  6.,  2., nan, 13.])"
      ]
     },
     "execution_count": 12,
     "metadata": {},
     "output_type": "execute_result"
    }
   ],
   "source": [
    "data['Product_Category_3'].unique()"
   ]
  },
  {
   "cell_type": "code",
   "execution_count": 13,
   "metadata": {},
   "outputs": [],
   "source": [
    "c = 0\n",
    "product_3_dict = {}\n",
    "data.Product_Category_3 = data.Product_Category_3.fillna(0)\n",
    "for i in set(data.Product_Category_3):\n",
    "    product_3_dict[i] = c\n",
    "    c = c+1\n",
    "    \n",
    "for i in range(len(data)):\n",
    "    temp = data.Product_Category_3[i]\n",
    "    data.Product_Category_3[i] = product_3_dict[temp]"
   ]
  },
  {
   "cell_type": "code",
   "execution_count": 14,
   "metadata": {},
   "outputs": [
    {
     "data": {
      "text/plain": [
       "array(['0-17', '25-35', '26-35', '46-50', '51-55', '36-45'], dtype=object)"
      ]
     },
     "execution_count": 14,
     "metadata": {},
     "output_type": "execute_result"
    }
   ],
   "source": [
    "data['Age'].unique()"
   ]
  },
  {
   "cell_type": "code",
   "execution_count": 15,
   "metadata": {},
   "outputs": [],
   "source": [
    "c = 0\n",
    "age_dict = {}\n",
    "for i in set(data.Age):\n",
    "    age_dict[i] = c\n",
    "    c = c+1\n",
    "    \n",
    "for i in range(len(data)):\n",
    "    temp = data.Age[i]\n",
    "    data.Age[i] = age_dict[temp]"
   ]
  },
  {
   "cell_type": "code",
   "execution_count": 16,
   "metadata": {},
   "outputs": [
    {
     "data": {
      "text/plain": [
       "{'51-55': 0, '26-35': 1, '25-35': 2, '36-45': 3, '0-17': 4, '46-50': 5}"
      ]
     },
     "execution_count": 16,
     "metadata": {},
     "output_type": "execute_result"
    }
   ],
   "source": [
    "age_dict"
   ]
  },
  {
   "cell_type": "code",
   "execution_count": 17,
   "metadata": {},
   "outputs": [
    {
     "data": {
      "text/html": [
       "<div>\n",
       "<style scoped>\n",
       "    .dataframe tbody tr th:only-of-type {\n",
       "        vertical-align: middle;\n",
       "    }\n",
       "\n",
       "    .dataframe tbody tr th {\n",
       "        vertical-align: top;\n",
       "    }\n",
       "\n",
       "    .dataframe thead th {\n",
       "        text-align: right;\n",
       "    }\n",
       "</style>\n",
       "<table border=\"1\" class=\"dataframe\">\n",
       "  <thead>\n",
       "    <tr style=\"text-align: right;\">\n",
       "      <th></th>\n",
       "      <th>User_ID</th>\n",
       "      <th>Product_ID</th>\n",
       "      <th>Gender</th>\n",
       "      <th>Age</th>\n",
       "      <th>Occupation</th>\n",
       "      <th>City_Category</th>\n",
       "      <th>Stay_In_Current_City_Years</th>\n",
       "      <th>Marital_Status</th>\n",
       "      <th>Product_Category_1</th>\n",
       "      <th>Product_Category_2</th>\n",
       "      <th>Product_Category_3</th>\n",
       "      <th>Purchase</th>\n",
       "    </tr>\n",
       "  </thead>\n",
       "  <tbody>\n",
       "    <tr>\n",
       "      <th>0</th>\n",
       "      <td>1000001</td>\n",
       "      <td>14</td>\n",
       "      <td>1</td>\n",
       "      <td>4</td>\n",
       "      <td>10</td>\n",
       "      <td>0</td>\n",
       "      <td>2</td>\n",
       "      <td>0</td>\n",
       "      <td>1</td>\n",
       "      <td>6.0</td>\n",
       "      <td>14.0</td>\n",
       "      <td>15200</td>\n",
       "    </tr>\n",
       "    <tr>\n",
       "      <th>1</th>\n",
       "      <td>1000002</td>\n",
       "      <td>44</td>\n",
       "      <td>0</td>\n",
       "      <td>2</td>\n",
       "      <td>16</td>\n",
       "      <td>1</td>\n",
       "      <td>5</td>\n",
       "      <td>0</td>\n",
       "      <td>8</td>\n",
       "      <td>15.0</td>\n",
       "      <td>10.0</td>\n",
       "      <td>7969</td>\n",
       "    </tr>\n",
       "    <tr>\n",
       "      <th>2</th>\n",
       "      <td>1000003</td>\n",
       "      <td>5</td>\n",
       "      <td>0</td>\n",
       "      <td>1</td>\n",
       "      <td>15</td>\n",
       "      <td>0</td>\n",
       "      <td>3</td>\n",
       "      <td>0</td>\n",
       "      <td>1</td>\n",
       "      <td>2.0</td>\n",
       "      <td>11.0</td>\n",
       "      <td>15227</td>\n",
       "    </tr>\n",
       "    <tr>\n",
       "      <th>3</th>\n",
       "      <td>1000004</td>\n",
       "      <td>17</td>\n",
       "      <td>0</td>\n",
       "      <td>5</td>\n",
       "      <td>7</td>\n",
       "      <td>2</td>\n",
       "      <td>2</td>\n",
       "      <td>1</td>\n",
       "      <td>1</td>\n",
       "      <td>8.0</td>\n",
       "      <td>17.0</td>\n",
       "      <td>19215</td>\n",
       "    </tr>\n",
       "    <tr>\n",
       "      <th>4</th>\n",
       "      <td>1000004</td>\n",
       "      <td>20</td>\n",
       "      <td>0</td>\n",
       "      <td>5</td>\n",
       "      <td>7</td>\n",
       "      <td>2</td>\n",
       "      <td>2</td>\n",
       "      <td>1</td>\n",
       "      <td>1</td>\n",
       "      <td>15.0</td>\n",
       "      <td>10.0</td>\n",
       "      <td>15854</td>\n",
       "    </tr>\n",
       "  </tbody>\n",
       "</table>\n",
       "</div>"
      ],
      "text/plain": [
       "   User_ID Product_ID Gender Age  Occupation City_Category  \\\n",
       "0  1000001         14      1   4          10             0   \n",
       "1  1000002         44      0   2          16             1   \n",
       "2  1000003          5      0   1          15             0   \n",
       "3  1000004         17      0   5           7             2   \n",
       "4  1000004         20      0   5           7             2   \n",
       "\n",
       "   Stay_In_Current_City_Years  Marital_Status  Product_Category_1  \\\n",
       "0                           2               0                   1   \n",
       "1                           5               0                   8   \n",
       "2                           3               0                   1   \n",
       "3                           2               1                   1   \n",
       "4                           2               1                   1   \n",
       "\n",
       "   Product_Category_2  Product_Category_3  Purchase  \n",
       "0                 6.0                14.0     15200  \n",
       "1                15.0                10.0      7969  \n",
       "2                 2.0                11.0     15227  \n",
       "3                 8.0                17.0     19215  \n",
       "4                15.0                10.0     15854  "
      ]
     },
     "execution_count": 17,
     "metadata": {},
     "output_type": "execute_result"
    }
   ],
   "source": [
    "data.head()"
   ]
  },
  {
   "cell_type": "code",
   "execution_count": 18,
   "metadata": {},
   "outputs": [
    {
     "data": {
      "text/plain": [
       "Index(['User_ID', 'Product_ID', 'Gender', 'Age', 'Occupation', 'City_Category',\n",
       "       'Stay_In_Current_City_Years', 'Marital_Status', 'Product_Category_1',\n",
       "       'Product_Category_2', 'Product_Category_3', 'Purchase'],\n",
       "      dtype='object')"
      ]
     },
     "execution_count": 18,
     "metadata": {},
     "output_type": "execute_result"
    }
   ],
   "source": [
    "data.columns"
   ]
  },
  {
   "cell_type": "markdown",
   "metadata": {},
   "source": [
    "## Splitting Data into Train and Test data sets "
   ]
  },
  {
   "cell_type": "code",
   "execution_count": 19,
   "metadata": {},
   "outputs": [
    {
     "name": "stdout",
     "output_type": "stream",
     "text": [
      "(34, 12) (15, 12)\n"
     ]
    }
   ],
   "source": [
    "from sklearn.model_selection import train_test_split\n",
    "from sklearn import metrics # for checking the model accuracy\n",
    "\n",
    "\n",
    "train, test = train_test_split(data, test_size=0.3) \n",
    "\n",
    "\n",
    "print(train.shape , test.shape)"
   ]
  },
  {
   "cell_type": "code",
   "execution_count": 20,
   "metadata": {},
   "outputs": [],
   "source": [
    "train_x = train[['Gender', 'Age', 'Occupation', 'City_Category',\n",
    "                 'Stay_In_Current_City_Years', 'Marital_Status', 'Product_Category_1',\n",
    "                 'Product_Category_2', 'Product_Category_3']]\n",
    "train_y = train.Purchase\n",
    "\n",
    "test_x = test[['Gender', 'Age', 'Occupation', 'City_Category',\n",
    "                 'Stay_In_Current_City_Years', 'Marital_Status', 'Product_Category_1',\n",
    "                 'Product_Category_2', 'Product_Category_3']]\n",
    "test_y = test.Purchase "
   ]
  },
  {
   "cell_type": "markdown",
   "metadata": {},
   "source": [
    "## Applying Linear Regression Algorithm "
   ]
  },
  {
   "cell_type": "code",
   "execution_count": 22,
   "metadata": {},
   "outputs": [
    {
     "name": "stdout",
     "output_type": "stream",
     "text": [
      "0.0\n",
      "3531.923677922085\n"
     ]
    }
   ],
   "source": [
    "from sklearn.linear_model import LinearRegression\n",
    "from sklearn.metrics import r2_score\n",
    "\n",
    "\n",
    "model = LinearRegression()\n",
    "model.fit(train_x, train_y)\n",
    "\n",
    "pred = model.predict(test_x)\n",
    "pred1 = pred.astype(int)\n",
    "print(metrics.accuracy_score(pred1, test_y))\n",
    "\n",
    "\n",
    "from sklearn.metrics import mean_squared_error\n",
    "from math import sqrt\n",
    "\n",
    "\n",
    "rms = sqrt(mean_squared_error(pred1, test_y))\n",
    "print(rms)\n"
   ]
  },
  {
   "cell_type": "code",
   "execution_count": 23,
   "metadata": {},
   "outputs": [
    {
     "data": {
      "text/plain": [
       "array([ 3606.26162402,  9522.66387904, 16158.44556597, 11836.64075052,\n",
       "        3398.7998104 ,  7619.35230467,  7506.17609685, 14468.79697063,\n",
       "        6628.51243343, 16301.79522849, 10882.95521324, 15907.93658269,\n",
       "       13568.65039147,  8752.57531314, 15488.88740381])"
      ]
     },
     "execution_count": 23,
     "metadata": {},
     "output_type": "execute_result"
    }
   ],
   "source": [
    "pred"
   ]
  },
  {
   "cell_type": "code",
   "execution_count": 24,
   "metadata": {},
   "outputs": [],
   "source": [
    "test['Lin_Prediction']= pred"
   ]
  },
  {
   "cell_type": "code",
   "execution_count": 25,
   "metadata": {},
   "outputs": [
    {
     "data": {
      "text/html": [
       "<div>\n",
       "<style scoped>\n",
       "    .dataframe tbody tr th:only-of-type {\n",
       "        vertical-align: middle;\n",
       "    }\n",
       "\n",
       "    .dataframe tbody tr th {\n",
       "        vertical-align: top;\n",
       "    }\n",
       "\n",
       "    .dataframe thead th {\n",
       "        text-align: right;\n",
       "    }\n",
       "</style>\n",
       "<table border=\"1\" class=\"dataframe\">\n",
       "  <thead>\n",
       "    <tr style=\"text-align: right;\">\n",
       "      <th></th>\n",
       "      <th>User_ID</th>\n",
       "      <th>Lin_Prediction</th>\n",
       "      <th>Purchase</th>\n",
       "    </tr>\n",
       "  </thead>\n",
       "  <tbody>\n",
       "    <tr>\n",
       "      <th>44</th>\n",
       "      <td>1000011</td>\n",
       "      <td>3606.261624</td>\n",
       "      <td>6171</td>\n",
       "    </tr>\n",
       "    <tr>\n",
       "      <th>41</th>\n",
       "      <td>1000010</td>\n",
       "      <td>9522.663879</td>\n",
       "      <td>12642</td>\n",
       "    </tr>\n",
       "    <tr>\n",
       "      <th>4</th>\n",
       "      <td>1000004</td>\n",
       "      <td>16158.445566</td>\n",
       "      <td>15854</td>\n",
       "    </tr>\n",
       "    <tr>\n",
       "      <th>45</th>\n",
       "      <td>1000011</td>\n",
       "      <td>11836.640751</td>\n",
       "      <td>19327</td>\n",
       "    </tr>\n",
       "    <tr>\n",
       "      <th>46</th>\n",
       "      <td>1000011</td>\n",
       "      <td>3398.799810</td>\n",
       "      <td>8027</td>\n",
       "    </tr>\n",
       "    <tr>\n",
       "      <th>42</th>\n",
       "      <td>1000010</td>\n",
       "      <td>7619.352305</td>\n",
       "      <td>10007</td>\n",
       "    </tr>\n",
       "    <tr>\n",
       "      <th>7</th>\n",
       "      <td>1000005</td>\n",
       "      <td>7506.176097</td>\n",
       "      <td>5254</td>\n",
       "    </tr>\n",
       "    <tr>\n",
       "      <th>33</th>\n",
       "      <td>1000010</td>\n",
       "      <td>14468.796971</td>\n",
       "      <td>12909</td>\n",
       "    </tr>\n",
       "    <tr>\n",
       "      <th>9</th>\n",
       "      <td>1000005</td>\n",
       "      <td>6628.512433</td>\n",
       "      <td>6073</td>\n",
       "    </tr>\n",
       "    <tr>\n",
       "      <th>21</th>\n",
       "      <td>1000008</td>\n",
       "      <td>16301.795228</td>\n",
       "      <td>11927</td>\n",
       "    </tr>\n",
       "    <tr>\n",
       "      <th>32</th>\n",
       "      <td>1000010</td>\n",
       "      <td>10882.955213</td>\n",
       "      <td>7089</td>\n",
       "    </tr>\n",
       "    <tr>\n",
       "      <th>15</th>\n",
       "      <td>1000007</td>\n",
       "      <td>15907.936583</td>\n",
       "      <td>11788</td>\n",
       "    </tr>\n",
       "    <tr>\n",
       "      <th>38</th>\n",
       "      <td>1000010</td>\n",
       "      <td>13568.650391</td>\n",
       "      <td>18963</td>\n",
       "    </tr>\n",
       "    <tr>\n",
       "      <th>27</th>\n",
       "      <td>1000010</td>\n",
       "      <td>8752.575313</td>\n",
       "      <td>8886</td>\n",
       "    </tr>\n",
       "    <tr>\n",
       "      <th>36</th>\n",
       "      <td>1000010</td>\n",
       "      <td>15488.887404</td>\n",
       "      <td>15705</td>\n",
       "    </tr>\n",
       "  </tbody>\n",
       "</table>\n",
       "</div>"
      ],
      "text/plain": [
       "    User_ID  Lin_Prediction  Purchase\n",
       "44  1000011     3606.261624      6171\n",
       "41  1000010     9522.663879     12642\n",
       "4   1000004    16158.445566     15854\n",
       "45  1000011    11836.640751     19327\n",
       "46  1000011     3398.799810      8027\n",
       "42  1000010     7619.352305     10007\n",
       "7   1000005     7506.176097      5254\n",
       "33  1000010    14468.796971     12909\n",
       "9   1000005     6628.512433      6073\n",
       "21  1000008    16301.795228     11927\n",
       "32  1000010    10882.955213      7089\n",
       "15  1000007    15907.936583     11788\n",
       "38  1000010    13568.650391     18963\n",
       "27  1000010     8752.575313      8886\n",
       "36  1000010    15488.887404     15705"
      ]
     },
     "execution_count": 25,
     "metadata": {},
     "output_type": "execute_result"
    }
   ],
   "source": [
    "test[['User_ID','Lin_Prediction','Purchase']]"
   ]
  },
  {
   "cell_type": "markdown",
   "metadata": {},
   "source": [
    "## Applying Decision Tree Regressor Algorithm "
   ]
  },
  {
   "cell_type": "code",
   "execution_count": 26,
   "metadata": {},
   "outputs": [
    {
     "name": "stdout",
     "output_type": "stream",
     "text": [
      "0.0\n",
      "4516.817323440625\n"
     ]
    }
   ],
   "source": [
    "from sklearn.tree import DecisionTreeRegressor\n",
    "\n",
    "\n",
    "model = DecisionTreeRegressor(max_depth=15, min_samples_leaf=100)\n",
    "\n",
    "model.fit(train_x, train_y)\n",
    "\n",
    "pred = model.predict(test_x)\n",
    "pred1 = pred.astype(int)\n",
    "\n",
    "print(metrics.accuracy_score(pred1, test_y))\n",
    "\n",
    "from sklearn.metrics import mean_squared_error\n",
    "from math import sqrt\n",
    "\n",
    "\n",
    "rms = sqrt(mean_squared_error(pred1, test_y))\n",
    "print(rms)"
   ]
  },
  {
   "cell_type": "code",
   "execution_count": 27,
   "metadata": {},
   "outputs": [],
   "source": [
    "test['Tree_Prediction']= pred"
   ]
  },
  {
   "cell_type": "code",
   "execution_count": 28,
   "metadata": {},
   "outputs": [
    {
     "data": {
      "text/html": [
       "<div>\n",
       "<style scoped>\n",
       "    .dataframe tbody tr th:only-of-type {\n",
       "        vertical-align: middle;\n",
       "    }\n",
       "\n",
       "    .dataframe tbody tr th {\n",
       "        vertical-align: top;\n",
       "    }\n",
       "\n",
       "    .dataframe thead th {\n",
       "        text-align: right;\n",
       "    }\n",
       "</style>\n",
       "<table border=\"1\" class=\"dataframe\">\n",
       "  <thead>\n",
       "    <tr style=\"text-align: right;\">\n",
       "      <th></th>\n",
       "      <th>User_ID</th>\n",
       "      <th>Tree_Prediction</th>\n",
       "      <th>Purchase</th>\n",
       "    </tr>\n",
       "  </thead>\n",
       "  <tbody>\n",
       "    <tr>\n",
       "      <th>44</th>\n",
       "      <td>1000011</td>\n",
       "      <td>10493.117647</td>\n",
       "      <td>6171</td>\n",
       "    </tr>\n",
       "    <tr>\n",
       "      <th>41</th>\n",
       "      <td>1000010</td>\n",
       "      <td>10493.117647</td>\n",
       "      <td>12642</td>\n",
       "    </tr>\n",
       "    <tr>\n",
       "      <th>4</th>\n",
       "      <td>1000004</td>\n",
       "      <td>10493.117647</td>\n",
       "      <td>15854</td>\n",
       "    </tr>\n",
       "    <tr>\n",
       "      <th>45</th>\n",
       "      <td>1000011</td>\n",
       "      <td>10493.117647</td>\n",
       "      <td>19327</td>\n",
       "    </tr>\n",
       "    <tr>\n",
       "      <th>46</th>\n",
       "      <td>1000011</td>\n",
       "      <td>10493.117647</td>\n",
       "      <td>8027</td>\n",
       "    </tr>\n",
       "    <tr>\n",
       "      <th>42</th>\n",
       "      <td>1000010</td>\n",
       "      <td>10493.117647</td>\n",
       "      <td>10007</td>\n",
       "    </tr>\n",
       "    <tr>\n",
       "      <th>7</th>\n",
       "      <td>1000005</td>\n",
       "      <td>10493.117647</td>\n",
       "      <td>5254</td>\n",
       "    </tr>\n",
       "    <tr>\n",
       "      <th>33</th>\n",
       "      <td>1000010</td>\n",
       "      <td>10493.117647</td>\n",
       "      <td>12909</td>\n",
       "    </tr>\n",
       "    <tr>\n",
       "      <th>9</th>\n",
       "      <td>1000005</td>\n",
       "      <td>10493.117647</td>\n",
       "      <td>6073</td>\n",
       "    </tr>\n",
       "    <tr>\n",
       "      <th>21</th>\n",
       "      <td>1000008</td>\n",
       "      <td>10493.117647</td>\n",
       "      <td>11927</td>\n",
       "    </tr>\n",
       "    <tr>\n",
       "      <th>32</th>\n",
       "      <td>1000010</td>\n",
       "      <td>10493.117647</td>\n",
       "      <td>7089</td>\n",
       "    </tr>\n",
       "    <tr>\n",
       "      <th>15</th>\n",
       "      <td>1000007</td>\n",
       "      <td>10493.117647</td>\n",
       "      <td>11788</td>\n",
       "    </tr>\n",
       "    <tr>\n",
       "      <th>38</th>\n",
       "      <td>1000010</td>\n",
       "      <td>10493.117647</td>\n",
       "      <td>18963</td>\n",
       "    </tr>\n",
       "    <tr>\n",
       "      <th>27</th>\n",
       "      <td>1000010</td>\n",
       "      <td>10493.117647</td>\n",
       "      <td>8886</td>\n",
       "    </tr>\n",
       "    <tr>\n",
       "      <th>36</th>\n",
       "      <td>1000010</td>\n",
       "      <td>10493.117647</td>\n",
       "      <td>15705</td>\n",
       "    </tr>\n",
       "  </tbody>\n",
       "</table>\n",
       "</div>"
      ],
      "text/plain": [
       "    User_ID  Tree_Prediction  Purchase\n",
       "44  1000011     10493.117647      6171\n",
       "41  1000010     10493.117647     12642\n",
       "4   1000004     10493.117647     15854\n",
       "45  1000011     10493.117647     19327\n",
       "46  1000011     10493.117647      8027\n",
       "42  1000010     10493.117647     10007\n",
       "7   1000005     10493.117647      5254\n",
       "33  1000010     10493.117647     12909\n",
       "9   1000005     10493.117647      6073\n",
       "21  1000008     10493.117647     11927\n",
       "32  1000010     10493.117647      7089\n",
       "15  1000007     10493.117647     11788\n",
       "38  1000010     10493.117647     18963\n",
       "27  1000010     10493.117647      8886\n",
       "36  1000010     10493.117647     15705"
      ]
     },
     "execution_count": 28,
     "metadata": {},
     "output_type": "execute_result"
    }
   ],
   "source": [
    "test[['User_ID','Tree_Prediction','Purchase']]"
   ]
  },
  {
   "cell_type": "code",
   "execution_count": null,
   "metadata": {},
   "outputs": [],
   "source": []
  },
  {
   "cell_type": "code",
   "execution_count": null,
   "metadata": {},
   "outputs": [],
   "source": []
  },
  {
   "cell_type": "code",
   "execution_count": null,
   "metadata": {},
   "outputs": [],
   "source": []
  },
  {
   "cell_type": "code",
   "execution_count": null,
   "metadata": {},
   "outputs": [],
   "source": []
  }
 ],
 "metadata": {
  "kernelspec": {
   "display_name": "Python 3",
   "language": "python",
   "name": "python3"
  },
  "language_info": {
   "codemirror_mode": {
    "name": "ipython",
    "version": 3
   },
   "file_extension": ".py",
   "mimetype": "text/x-python",
   "name": "python",
   "nbconvert_exporter": "python",
   "pygments_lexer": "ipython3",
   "version": "3.7.3"
  }
 },
 "nbformat": 4,
 "nbformat_minor": 2
}
